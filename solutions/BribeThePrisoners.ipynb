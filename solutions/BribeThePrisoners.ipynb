{
 "cells": [
  {
   "cell_type": "code",
   "execution_count": 2,
   "metadata": {
    "collapsed": false
   },
   "outputs": [],
   "source": [
    "temp_res = []\n",
    "with open(\"C:/Users/paco/Dropbox/algorithms/google_jam/BribeThePrisoners/C-small-practice.in\") as input_file:\n",
    "    for i, line in enumerate(input_file):\n",
    "        if i==0:\n",
    "            n = int(line)\n",
    "        else:\n",
    "            temp_res.append([int(val) for val in line.split(\" \")])\n",
    "\n",
    "cases = []\n",
    "for k, val in enumerate(temp_res):\n",
    "    if k%2 == 0:\n",
    "        cells = val[0]\n",
    "    else:\n",
    "        prisoners = val\n",
    "        cases.append((1 + int(k/2), cells, prisoners))"
   ]
  },
  {
   "cell_type": "code",
   "execution_count": 12,
   "metadata": {
    "collapsed": false
   },
   "outputs": [],
   "source": [
    "import sys\n",
    "\n",
    "def solve_by_d_and_c(first_cell, last_cell, prisoners, memory):\n",
    "    if first_cell >= last_cell:\n",
    "        return 0\n",
    "    if (first_cell, last_cell) in memory:\n",
    "        return memory[(first_cell, last_cell)]\n",
    "    sol, candidate = None, -1\n",
    "    for p_to_free in prisoners:\n",
    "        if first_cell <= p_to_free <= last_cell:\n",
    "            candidate = last_cell - first_cell + solve_by_d_and_c(\n",
    "                first_cell,\n",
    "                p_to_free - 1,\n",
    "                prisoners,\n",
    "                memory\n",
    "            ) + solve_by_d_and_c(\n",
    "                p_to_free + 1,\n",
    "                last_cell,\n",
    "                prisoners,\n",
    "                memory\n",
    "            )\n",
    "            if not sol or candidate < sol:\n",
    "                sol = candidate\n",
    "    if not sol:\n",
    "        sol = 0\n",
    "    memory[(first_cell, last_cell)] = sol\n",
    "    return sol\n",
    "\n",
    "def solve(case):\n",
    "    memory = dict()\n",
    "    prisoners = case[2]\n",
    "    return solve_by_d_and_c(first_cell=1, last_cell=case[1], prisoners=prisoners, memory=memory)"
   ]
  },
  {
   "cell_type": "code",
   "execution_count": 16,
   "metadata": {
    "collapsed": false
   },
   "outputs": [],
   "source": [
    "def get_permutations(list_):\n",
    "    permutations = []\n",
    "    if len(list_) == 1:\n",
    "        return [list_]\n",
    "    for i in range(len(list_)):\n",
    "        for permutation in get_permutations(list_[:i] + list_[i+1:]):\n",
    "            permutations.append([list_[i]] + permutation)\n",
    "    return permutations\n",
    "\n",
    "def sum_to_pay(cells, prisoner):\n",
    "    coins = 0\n",
    "    i, j = prisoner, prisoner - 2\n",
    "    while(i < len(cells) and cells[i]):\n",
    "        coins += 1\n",
    "        i += 1\n",
    "    while(j >= 0 and cells[j]):\n",
    "        coins += 1\n",
    "        j -= 1\n",
    "    return coins\n",
    "\n",
    "def solve_by_brute_force(case):\n",
    "    cells = None\n",
    "    prisoners = case[2]\n",
    "    min_res = None\n",
    "    for permutation in get_permutations(prisoners):\n",
    "        cells = [True] * case[1]\n",
    "        res = 0\n",
    "        for prisoner in permutation:\n",
    "            cells[prisoner - 1] = False\n",
    "            res += sum_to_pay(cells, prisoner)\n",
    "        if not min_res or res < min_res:\n",
    "            min_res = res\n",
    "    return min_res"
   ]
  },
  {
   "cell_type": "code",
   "execution_count": 17,
   "metadata": {
    "collapsed": false
   },
   "outputs": [
    {
     "name": "stdout",
     "output_type": "stream",
     "text": [
      "Wall time: 620 ms\n"
     ]
    }
   ],
   "source": [
    "%%time\n",
    "\n",
    "output_path = \"C:/Users/paco/Dropbox/algorithms/google_jam/BribeThePrisoners/C-small-practice.out\"\n",
    "with open(output_path, mode='w') as output:\n",
    "    for case in cases:\n",
    "        answer = solve_by_brute_force(case)\n",
    "        output.write(\"Case #{i}: \".format(i=case[0]) + str(answer) + '\\n')"
   ]
  }
 ],
 "metadata": {
  "kernelspec": {
   "display_name": "Python 3",
   "language": "python",
   "name": "python3"
  },
  "language_info": {
   "codemirror_mode": {
    "name": "ipython",
    "version": 3
   },
   "file_extension": ".py",
   "mimetype": "text/x-python",
   "name": "python",
   "nbconvert_exporter": "python",
   "pygments_lexer": "ipython3",
   "version": "3.4.3"
  }
 },
 "nbformat": 4,
 "nbformat_minor": 0
}
